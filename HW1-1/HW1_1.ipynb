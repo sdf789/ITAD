{
  "nbformat": 4,
  "nbformat_minor": 0,
  "metadata": {
    "colab": {
      "provenance": []
    },
    "kernelspec": {
      "name": "python3",
      "display_name": "Python 3"
    },
    "language_info": {
      "name": "python"
    }
  },
  "cells": [
    {
      "cell_type": "markdown",
      "source": [
        "To solve a linear regression problem using CRISP-DM (Cross Industry Standard Process for Data Mining), here’s how you can structure the Python code:\n",
        "\n",
        "### 1. Business Understanding\n",
        "The first step involves understanding the business problem you want to solve with linear regression. Let’s assume you want to predict house prices based on features like square footage, number of bedrooms, etc.\n",
        "\n",
        "### 2. Data Understanding\n",
        "You would load and inspect your dataset to understand its structure."
      ],
      "metadata": {
        "id": "YbbxCrp6ZPk7"
      }
    },
    {
      "cell_type": "code",
      "source": [
        "import pandas as pd\n",
        "\n",
        "# Load data\n",
        "data = pd.read_csv('housing_data.csv')  # replace with your dataset\n",
        "\n",
        "# Show the first few rows of the data\n",
        "print(data.head())\n",
        "\n",
        "# Basic statistics of the data\n",
        "print(data.describe())\n"
      ],
      "metadata": {
        "id": "6Gqu54oUZW_Z"
      },
      "execution_count": null,
      "outputs": []
    },
    {
      "cell_type": "markdown",
      "source": [
        "### 3. Data Preparation\n",
        "In this step, clean and prepare the data for modeling. This includes handling missing values, encoding categorical variables, and splitting the data into features and target variables."
      ],
      "metadata": {
        "id": "NpvtrmG7ZZLO"
      }
    },
    {
      "cell_type": "code",
      "source": [
        "from sklearn.model_selection import train_test_split\n",
        "from sklearn.preprocessing import StandardScaler\n",
        "\n",
        "# Select features and target variable\n",
        "X = data[['square_footage', 'num_bedrooms', 'num_bathrooms']]  # Feature columns\n",
        "y = data['price']  # Target column\n",
        "\n",
        "# Split data into training and test sets\n",
        "X_train, X_test, y_train, y_test = train_test_split(X, y, test_size=0.2, random_state=42)\n",
        "\n",
        "# Standardize the data (optional but recommended for linear regression)\n",
        "scaler = StandardScaler()\n",
        "X_train_scaled = scaler.fit_transform(X_train)\n",
        "X_test_scaled = scaler.transform(X_test)\n"
      ],
      "metadata": {
        "id": "zl-m-f8jZanz"
      },
      "execution_count": null,
      "outputs": []
    },
    {
      "cell_type": "markdown",
      "source": [
        "### 4. Modeling\n",
        "Now, apply linear regression using the LinearRegression model from scikit-learn."
      ],
      "metadata": {
        "id": "tNxTBakvZc6k"
      }
    },
    {
      "cell_type": "code",
      "source": [
        "from sklearn.linear_model import LinearRegression\n",
        "\n",
        "# Initialize and train the model\n",
        "model = LinearRegression()\n",
        "model.fit(X_train_scaled, y_train)\n",
        "\n",
        "# Predict using the test set\n",
        "y_pred = model.predict(X_test_scaled)\n"
      ],
      "metadata": {
        "id": "GD0tBEerZfFv"
      },
      "execution_count": null,
      "outputs": []
    },
    {
      "cell_type": "markdown",
      "source": [
        "### 5. Evaluation\n",
        "After training the model, evaluate its performance using metrics like Mean Squared Error (MSE) and R-squared."
      ],
      "metadata": {
        "id": "arZR-a7LZl1s"
      }
    },
    {
      "cell_type": "code",
      "source": [
        "from sklearn.metrics import mean_squared_error, r2_score\n",
        "\n",
        "# Calculate MSE and R-squared\n",
        "mse = mean_squared_error(y_test, y_pred)\n",
        "r2 = r2_score(y_test, y_pred)\n",
        "\n",
        "print(f'Mean Squared Error: {mse}')\n",
        "print(f'R-squared: {r2}')\n"
      ],
      "metadata": {
        "id": "wdCh2J40Zsf6"
      },
      "execution_count": null,
      "outputs": []
    },
    {
      "cell_type": "markdown",
      "source": [
        "### 6. Deployment\n",
        "Once the model has been evaluated, you can save it for deployment or use in future predictions."
      ],
      "metadata": {
        "id": "4wyfRIkHZvXh"
      }
    },
    {
      "cell_type": "code",
      "source": [
        "import joblib\n",
        "\n",
        "# Save the model to a file\n",
        "joblib.dump(model, 'linear_regression_model.pkl')\n",
        "\n",
        "# Load the model (for future use)\n",
        "# loaded_model = joblib.load('linear_regression_model.pkl')\n"
      ],
      "metadata": {
        "id": "4WmCweyOZxLg"
      },
      "execution_count": null,
      "outputs": []
    },
    {
      "cell_type": "markdown",
      "source": [
        "This workflow is based on the CRISP-DM process:\n",
        "1. Business Understanding: Define the goal (predict house prices).\n",
        "2. Data Understanding: Load and explore the data.\n",
        "3. Data Preparation: Clean and preprocess the data.\n",
        "4. Modeling: Train the linear regression model.\n",
        "5. Evaluation: Evaluate the model’s performance.\n",
        "6. Deployment: Save or deploy the model.\n",
        "\n",
        "Let me know if you'd like any further adjustments!"
      ],
      "metadata": {
        "id": "D9n0QiQZZzlc"
      }
    },
    {
      "cell_type": "markdown",
      "source": [
        "Here’s the Python code to solve the linear regression problem using the CRISP-DM process with the dataset from the provided URL:"
      ],
      "metadata": {
        "id": "40PplX-2aEVb"
      }
    },
    {
      "cell_type": "code",
      "source": [
        "import pandas as pd\n",
        "from sklearn.model_selection import train_test_split\n",
        "from sklearn.preprocessing import StandardScaler\n",
        "from sklearn.linear_model import LinearRegression\n",
        "from sklearn.metrics import mean_squared_error, r2_score\n",
        "import joblib\n",
        "\n",
        "# 1. Business Understanding\n",
        "# We are predicting house prices using features like CRIM, ZN, INDUS, etc.\n",
        "\n",
        "# 2. Data Understanding\n",
        "# Load the dataset from the provided URL\n",
        "url = 'https://raw.githubusercontent.com/selva86/datasets/master/BostonHousing.csv'\n",
        "data = pd.read_csv(url)\n",
        "\n",
        "# Inspect the first few rows\n",
        "print(\"Data preview:\")\n",
        "print(data.head())\n",
        "\n",
        "# Display basic statistics\n",
        "print(\"\\nData description:\")\n",
        "print(data.describe())\n",
        "\n",
        "# 3. Data Preparation\n",
        "# Define the feature columns and target column\n",
        "X = data.drop(columns=['medv'])  # 'medv' is the target (median value of owner-occupied homes)\n",
        "y = data['medv']\n",
        "\n",
        "# Split the data into training and testing sets\n",
        "X_train, X_test, y_train, y_test = train_test_split(X, y, test_size=0.2, random_state=42)\n",
        "\n",
        "# Standardize the data (optional but helpful for linear regression)\n",
        "scaler = StandardScaler()\n",
        "X_train_scaled = scaler.fit_transform(X_train)\n",
        "X_test_scaled = scaler.transform(X_test)\n",
        "\n",
        "# 4. Modeling\n",
        "# Initialize and fit the linear regression model\n",
        "model = LinearRegression()\n",
        "model.fit(X_train_scaled, y_train)\n",
        "\n",
        "# Make predictions on the test set\n",
        "y_pred = model.predict(X_test_scaled)\n",
        "\n",
        "# 5. Evaluation\n",
        "# Evaluate the model using Mean Squared Error and R-squared\n",
        "mse = mean_squared_error(y_test, y_pred)\n",
        "r2 = r2_score(y_test, y_pred)\n",
        "\n",
        "print(f'\\nMean Squared Error: {mse}')\n",
        "print(f'R-squared: {r2}')\n",
        "\n",
        "# 6. Deployment\n",
        "# Save the model for future use\n",
        "joblib.dump(model, 'linear_regression_model.pkl')\n",
        "\n",
        "# Optional: To load the model in the future, use the following line\n",
        "# loaded_model = joblib.load('linear_regression_model.pkl')\n"
      ],
      "metadata": {
        "colab": {
          "base_uri": "https://localhost:8080/"
        },
        "id": "6SSkcAD48GTo",
        "outputId": "eebb8401-d0c0-42ae-a8a9-3892bb633799"
      },
      "execution_count": 4,
      "outputs": [
        {
          "output_type": "stream",
          "name": "stdout",
          "text": [
            "Data preview:\n",
            "      crim    zn  indus  chas    nox     rm   age     dis  rad  tax  ptratio  \\\n",
            "0  0.00632  18.0   2.31     0  0.538  6.575  65.2  4.0900    1  296     15.3   \n",
            "1  0.02731   0.0   7.07     0  0.469  6.421  78.9  4.9671    2  242     17.8   \n",
            "2  0.02729   0.0   7.07     0  0.469  7.185  61.1  4.9671    2  242     17.8   \n",
            "3  0.03237   0.0   2.18     0  0.458  6.998  45.8  6.0622    3  222     18.7   \n",
            "4  0.06905   0.0   2.18     0  0.458  7.147  54.2  6.0622    3  222     18.7   \n",
            "\n",
            "        b  lstat  medv  \n",
            "0  396.90   4.98  24.0  \n",
            "1  396.90   9.14  21.6  \n",
            "2  392.83   4.03  34.7  \n",
            "3  394.63   2.94  33.4  \n",
            "4  396.90   5.33  36.2  \n",
            "\n",
            "Data description:\n",
            "             crim          zn       indus        chas         nox          rm  \\\n",
            "count  506.000000  506.000000  506.000000  506.000000  506.000000  506.000000   \n",
            "mean     3.613524   11.363636   11.136779    0.069170    0.554695    6.284634   \n",
            "std      8.601545   23.322453    6.860353    0.253994    0.115878    0.702617   \n",
            "min      0.006320    0.000000    0.460000    0.000000    0.385000    3.561000   \n",
            "25%      0.082045    0.000000    5.190000    0.000000    0.449000    5.885500   \n",
            "50%      0.256510    0.000000    9.690000    0.000000    0.538000    6.208500   \n",
            "75%      3.677083   12.500000   18.100000    0.000000    0.624000    6.623500   \n",
            "max     88.976200  100.000000   27.740000    1.000000    0.871000    8.780000   \n",
            "\n",
            "              age         dis         rad         tax     ptratio           b  \\\n",
            "count  506.000000  506.000000  506.000000  506.000000  506.000000  506.000000   \n",
            "mean    68.574901    3.795043    9.549407  408.237154   18.455534  356.674032   \n",
            "std     28.148861    2.105710    8.707259  168.537116    2.164946   91.294864   \n",
            "min      2.900000    1.129600    1.000000  187.000000   12.600000    0.320000   \n",
            "25%     45.025000    2.100175    4.000000  279.000000   17.400000  375.377500   \n",
            "50%     77.500000    3.207450    5.000000  330.000000   19.050000  391.440000   \n",
            "75%     94.075000    5.188425   24.000000  666.000000   20.200000  396.225000   \n",
            "max    100.000000   12.126500   24.000000  711.000000   22.000000  396.900000   \n",
            "\n",
            "            lstat        medv  \n",
            "count  506.000000  506.000000  \n",
            "mean    12.653063   22.532806  \n",
            "std      7.141062    9.197104  \n",
            "min      1.730000    5.000000  \n",
            "25%      6.950000   17.025000  \n",
            "50%     11.360000   21.200000  \n",
            "75%     16.955000   25.000000  \n",
            "max     37.970000   50.000000  \n",
            "\n",
            "Mean Squared Error: 24.291119474973513\n",
            "R-squared: 0.668759493535632\n"
          ]
        },
        {
          "output_type": "execute_result",
          "data": {
            "text/plain": [
              "['linear_regression_model.pkl']"
            ]
          },
          "metadata": {},
          "execution_count": 4
        }
      ]
    },
    {
      "cell_type": "markdown",
      "source": [
        "## Steps to Run:\n",
        "1. Copy this code into your Python environment.\n",
        "2. The dataset will be automatically fetched from the URL you provided.\n",
        "3. The code will train a linear regression model, evaluate it, and print the evaluation metrics.\n",
        "4. The trained model will be saved as linear_regression_model.pkl.\n",
        "\n",
        "Let me know if you need further assistance!"
      ],
      "metadata": {
        "id": "Cscfxzl4aIEy"
      }
    },
    {
      "cell_type": "markdown",
      "source": [
        "Here's a complete Python script to solve a linear regression problem using CRISP-DM, with randomly generated data points. This example will create a dataset of 200 points with one feature and a target variable that has some linear relationship with that feature.\n",
        "\n",
        "## Python Code"
      ],
      "metadata": {
        "id": "WAw2Sdjfaadq"
      }
    },
    {
      "cell_type": "code",
      "execution_count": 6,
      "metadata": {
        "colab": {
          "base_uri": "https://localhost:8080/",
          "height": 946
        },
        "id": "nzduD50_7exU",
        "outputId": "359353eb-5e79-48ad-80d9-a542157e1c7f"
      },
      "outputs": [
        {
          "output_type": "stream",
          "name": "stdout",
          "text": [
            "Data preview:\n",
            "     Feature      Target\n",
            "0  37.454012  105.561788\n",
            "1  95.071431  287.536829\n",
            "2  73.199394  222.528907\n",
            "3  59.865848  172.454031\n",
            "4  15.601864   65.463337\n",
            "\n",
            "Data description:\n",
            "          Feature      Target\n",
            "count  200.000000  200.000000\n",
            "mean    48.400623  145.876013\n",
            "std     29.489143   88.767427\n",
            "min      0.552212   -4.983102\n",
            "25%     22.858241   67.799900\n",
            "50%     49.448625  142.586565\n",
            "75%     75.685962  224.787040\n",
            "max     98.688694  308.471785\n",
            "\n",
            "Mean Squared Error: 108.46238625454703\n",
            "R-squared: 0.9855236269521633\n"
          ]
        },
        {
          "output_type": "display_data",
          "data": {
            "text/plain": [
              "<Figure size 1000x600 with 1 Axes>"
            ],
            "image/png": "[encoded data removed]"
          },
          "metadata": {}
        },
        {
          "output_type": "execute_result",
          "data": {
            "text/plain": [
              "['linear_regression_model_random_data.pkl']"
            ]
          },
          "metadata": {},
          "execution_count": 6
        }
      ],
      "source": [
        "import numpy as np\n",
        "import pandas as pd\n",
        "from sklearn.model_selection import train_test_split\n",
        "from sklearn.preprocessing import StandardScaler\n",
        "from sklearn.linear_model import LinearRegression\n",
        "from sklearn.metrics import mean_squared_error, r2_score\n",
        "import joblib\n",
        "import matplotlib.pyplot as plt\n",
        "\n",
        "# 1. Business Understanding\n",
        "# We are predicting a target variable based on a single feature with some noise.\n",
        "\n",
        "# 2. Data Understanding\n",
        "# Generate random data\n",
        "np.random.seed(42)  # For reproducibility\n",
        "X = np.random.rand(200, 1) * 100  # Feature: 200 random points scaled between 0 and 100\n",
        "y = 3 * X.squeeze() + np.random.randn(200) * 10  # Target: Linear relationship with noise\n",
        "\n",
        "# Create a DataFrame for easier manipulation\n",
        "data = pd.DataFrame(data=np.hstack((X, y.reshape(-1, 1))), columns=['Feature', 'Target'])\n",
        "\n",
        "# Inspect the first few rows\n",
        "print(\"Data preview:\")\n",
        "print(data.head())\n",
        "\n",
        "# Display basic statistics\n",
        "print(\"\\nData description:\")\n",
        "print(data.describe())\n",
        "\n",
        "# 3. Data Preparation\n",
        "# Define feature and target variable\n",
        "X = data[['Feature']]\n",
        "y = data['Target']\n",
        "\n",
        "# Split the data into training and testing sets\n",
        "X_train, X_test, y_train, y_test = train_test_split(X, y, test_size=0.2, random_state=42)\n",
        "\n",
        "# Standardize the data\n",
        "scaler = StandardScaler()\n",
        "X_train_scaled = scaler.fit_transform(X_train)\n",
        "X_test_scaled = scaler.transform(X_test)\n",
        "\n",
        "# 4. Modeling\n",
        "# Initialize and fit the linear regression model\n",
        "model = LinearRegression()\n",
        "model.fit(X_train_scaled, y_train)\n",
        "\n",
        "# Make predictions on the test set\n",
        "y_pred = model.predict(X_test_scaled)\n",
        "\n",
        "# 5. Evaluation\n",
        "# Evaluate the model using Mean Squared Error and R-squared\n",
        "mse = mean_squared_error(y_test, y_pred)\n",
        "r2 = r2_score(y_test, y_pred)\n",
        "\n",
        "print(f'\\nMean Squared Error: {mse}')\n",
        "print(f'R-squared: {r2}')\n",
        "\n",
        "# Plotting the results\n",
        "plt.figure(figsize=(10, 6))\n",
        "plt.scatter(X, y, color='blue', label='Data points')\n",
        "plt.plot(X_test, y_pred, color='red', linewidth=2, label='Regression line')\n",
        "plt.title('Linear Regression Model')\n",
        "plt.xlabel('Feature')\n",
        "plt.ylabel('Target')\n",
        "plt.legend()\n",
        "plt.show()\n",
        "\n",
        "# 6. Deployment\n",
        "# Save the model for future use\n",
        "joblib.dump(model, 'linear_regression_model_random_data.pkl')\n",
        "\n",
        "# Optional: To load the model in the future, use the following line\n",
        "# loaded_model = joblib.load('linear_regression_model_random_data.pkl')\n"
      ]
    },
    {
      "cell_type": "markdown",
      "source": [
        "## Explanation of the Code\n",
        "1. Business Understanding: The goal is to predict a target variable based on one feature, which has some noise added.\n",
        "2. Data Understanding: Random data is generated with one feature and a linear relationship to the target variable.\n",
        "3. Data Preparation: The data is split into training and testing sets, and standardized for better model performance.\n",
        "4. Modeling: A linear regression model is trained on the scaled training data.\n",
        "5. Evaluation: The model's performance is evaluated using MSE and R-squared metrics. A plot is generated to visualize the data points and the regression line.\n",
        "6. Deployment: The trained model is saved for future use.\n",
        "\n",
        "## Steps to Run\n",
        "- Copy this code into your Python environment.\n",
        "- The random dataset will be created and the model will be trained, evaluated, and visualized.\n",
        "- The trained model will be saved as linear_regression_model_random_data.pkl.\n",
        "Let me know if you need any modifications or additional information!"
      ],
      "metadata": {
        "id": "HmyqmtHxZOLW"
      }
    },
    {
      "cell_type": "markdown",
      "source": [
        "Here's a summary of the two tasks you've worked on, presented in bullet points and a table format for easy comparison.\n",
        "\n",
        "# Summary of Tasks\n",
        "## Task 1: Linear Regression with Boston Housing Dataset\n",
        "- Dataset: Boston Housing dataset from the provided URL.\n",
        "- Purpose: Predict the median value of owner-occupied homes (medv) using various features (e.g., crime rate, number of rooms).\n",
        "- Process:\n",
        "    -   Data Loading and Inspection\n",
        "    - Data Preparation (Feature selection, train-test split, standardization)\n",
        "    - Model Training (Linear Regression)\n",
        "    - Model Evaluation (Mean Squared Error, R-squared)\n",
        "    - Model Saving\n",
        "- Visualization: Not included in the task.\n",
        "---\n",
        "## Task 2: Linear Regression with Randomly Generated Data\n",
        "- Dataset: Randomly generated dataset with 200 points.\n",
        "- Purpose: Predict a target variable based on a single feature with some noise.\n",
        "- Process:\n",
        "    - Data Generation (Random points with a linear relationship)\n",
        "    - Data Loading and Inspection\n",
        "    - Data Preparation (Feature selection, train-test split, standardization)\n",
        "    - Model Training (Linear Regression)\n",
        "    - Model Evaluation (Mean Squared Error, R-squared)\n",
        "    - Model Saving\n",
        "- Visualization: Included a scatter plot of data points and the regression line."
      ],
      "metadata": {
        "id": "ZTUBmY53awx9"
      }
    },
    {
      "cell_type": "markdown",
      "source": [
        "| Feature                     | Task 1: Boston Housing Dataset               | Task 2: Randomly Generated Data             |\n",
        "|-----------------------------|----------------------------------------------|---------------------------------------------|\n",
        "| **Dataset**                 | Boston Housing dataset                       | Randomly generated data (200 points)       |\n",
        "| **Target Variable**         | `medv` (Median value of homes)             | Linear relationship with noise              |\n",
        "| **Number of Features**      | Multiple features (e.g., CRIM, RM, etc.)   | Single feature                              |\n",
        "| **Data Preparation**        | Train-test split, standardization           | Train-test split, standardization           |\n",
        "| **Modeling**                | Linear Regression                           | Linear Regression                           |\n",
        "| **Evaluation Metrics**      | MSE, R-squared                             | MSE, R-squared                             |\n",
        "| **Visualization**           | Not included                                | Scatter plot and regression line            |\n",
        "| **Model Saving**            | Saved as `linear_regression_model.pkl`     | Saved as `linear_regression_model_random_data.pkl` |\n"
      ],
      "metadata": {
        "id": "-jIVvxW-Y-U1"
      }
    }
  ]
}